{
 "cells": [
  {
   "cell_type": "markdown",
   "metadata": {},
   "source": [
    "### ANN  Classification:- Customer Churn Data "
   ]
  },
  {
   "cell_type": "markdown",
   "metadata": {},
   "source": [
    "#### Step 0: Import important libraries\n",
    "* Data preprocessing"
   ]
  },
  {
   "cell_type": "code",
   "execution_count": 2,
   "metadata": {
    "id": "LJ1czPWJml_f"
   },
   "outputs": [],
   "source": [
    "# Importing the libraries\n",
    "import numpy as np\n",
    "import matplotlib.pyplot as plt\n",
    "import pandas as pd"
   ]
  },
  {
   "cell_type": "markdown",
   "metadata": {},
   "source": [
    "#### Here we read our csv file and divide our data into dependent and independant features"
   ]
  },
  {
   "cell_type": "code",
   "execution_count": 3,
   "metadata": {
    "id": "-H0j08pym5HX"
   },
   "outputs": [],
   "source": [
    "# Importing the dataset\n",
    "dataset = pd.read_csv('Churn_Modelling.csv')\n",
    "X = dataset.iloc[:, 3:13] # Here we divide our data into dependent and independant features\n",
    "y = dataset.iloc[:, 13]"
   ]
  },
  {
   "cell_type": "code",
   "execution_count": 4,
   "metadata": {},
   "outputs": [
    {
     "data": {
      "text/html": [
       "<div>\n",
       "<style scoped>\n",
       "    .dataframe tbody tr th:only-of-type {\n",
       "        vertical-align: middle;\n",
       "    }\n",
       "\n",
       "    .dataframe tbody tr th {\n",
       "        vertical-align: top;\n",
       "    }\n",
       "\n",
       "    .dataframe thead th {\n",
       "        text-align: right;\n",
       "    }\n",
       "</style>\n",
       "<table border=\"1\" class=\"dataframe\">\n",
       "  <thead>\n",
       "    <tr style=\"text-align: right;\">\n",
       "      <th></th>\n",
       "      <th>RowNumber</th>\n",
       "      <th>CustomerId</th>\n",
       "      <th>Surname</th>\n",
       "      <th>CreditScore</th>\n",
       "      <th>Geography</th>\n",
       "      <th>Gender</th>\n",
       "      <th>Age</th>\n",
       "      <th>Tenure</th>\n",
       "      <th>Balance</th>\n",
       "      <th>NumOfProducts</th>\n",
       "      <th>HasCrCard</th>\n",
       "      <th>IsActiveMember</th>\n",
       "      <th>EstimatedSalary</th>\n",
       "      <th>Exited</th>\n",
       "    </tr>\n",
       "  </thead>\n",
       "  <tbody>\n",
       "    <tr>\n",
       "      <th>0</th>\n",
       "      <td>1</td>\n",
       "      <td>15634602</td>\n",
       "      <td>Hargrave</td>\n",
       "      <td>619</td>\n",
       "      <td>France</td>\n",
       "      <td>Female</td>\n",
       "      <td>42</td>\n",
       "      <td>2</td>\n",
       "      <td>0.00</td>\n",
       "      <td>1</td>\n",
       "      <td>1</td>\n",
       "      <td>1</td>\n",
       "      <td>101348.88</td>\n",
       "      <td>1</td>\n",
       "    </tr>\n",
       "    <tr>\n",
       "      <th>1</th>\n",
       "      <td>2</td>\n",
       "      <td>15647311</td>\n",
       "      <td>Hill</td>\n",
       "      <td>608</td>\n",
       "      <td>Spain</td>\n",
       "      <td>Female</td>\n",
       "      <td>41</td>\n",
       "      <td>1</td>\n",
       "      <td>83807.86</td>\n",
       "      <td>1</td>\n",
       "      <td>0</td>\n",
       "      <td>1</td>\n",
       "      <td>112542.58</td>\n",
       "      <td>0</td>\n",
       "    </tr>\n",
       "    <tr>\n",
       "      <th>2</th>\n",
       "      <td>3</td>\n",
       "      <td>15619304</td>\n",
       "      <td>Onio</td>\n",
       "      <td>502</td>\n",
       "      <td>France</td>\n",
       "      <td>Female</td>\n",
       "      <td>42</td>\n",
       "      <td>8</td>\n",
       "      <td>159660.80</td>\n",
       "      <td>3</td>\n",
       "      <td>1</td>\n",
       "      <td>0</td>\n",
       "      <td>113931.57</td>\n",
       "      <td>1</td>\n",
       "    </tr>\n",
       "    <tr>\n",
       "      <th>3</th>\n",
       "      <td>4</td>\n",
       "      <td>15701354</td>\n",
       "      <td>Boni</td>\n",
       "      <td>699</td>\n",
       "      <td>France</td>\n",
       "      <td>Female</td>\n",
       "      <td>39</td>\n",
       "      <td>1</td>\n",
       "      <td>0.00</td>\n",
       "      <td>2</td>\n",
       "      <td>0</td>\n",
       "      <td>0</td>\n",
       "      <td>93826.63</td>\n",
       "      <td>0</td>\n",
       "    </tr>\n",
       "    <tr>\n",
       "      <th>4</th>\n",
       "      <td>5</td>\n",
       "      <td>15737888</td>\n",
       "      <td>Mitchell</td>\n",
       "      <td>850</td>\n",
       "      <td>Spain</td>\n",
       "      <td>Female</td>\n",
       "      <td>43</td>\n",
       "      <td>2</td>\n",
       "      <td>125510.82</td>\n",
       "      <td>1</td>\n",
       "      <td>1</td>\n",
       "      <td>1</td>\n",
       "      <td>79084.10</td>\n",
       "      <td>0</td>\n",
       "    </tr>\n",
       "  </tbody>\n",
       "</table>\n",
       "</div>"
      ],
      "text/plain": [
       "   RowNumber  CustomerId   Surname  CreditScore Geography  Gender  Age  \\\n",
       "0          1    15634602  Hargrave          619    France  Female   42   \n",
       "1          2    15647311      Hill          608     Spain  Female   41   \n",
       "2          3    15619304      Onio          502    France  Female   42   \n",
       "3          4    15701354      Boni          699    France  Female   39   \n",
       "4          5    15737888  Mitchell          850     Spain  Female   43   \n",
       "\n",
       "   Tenure    Balance  NumOfProducts  HasCrCard  IsActiveMember  \\\n",
       "0       2       0.00              1          1               1   \n",
       "1       1   83807.86              1          0               1   \n",
       "2       8  159660.80              3          1               0   \n",
       "3       1       0.00              2          0               0   \n",
       "4       2  125510.82              1          1               1   \n",
       "\n",
       "   EstimatedSalary  Exited  \n",
       "0        101348.88       1  \n",
       "1        112542.58       0  \n",
       "2        113931.57       1  \n",
       "3         93826.63       0  \n",
       "4         79084.10       0  "
      ]
     },
     "execution_count": 4,
     "metadata": {},
     "output_type": "execute_result"
    }
   ],
   "source": [
    "dataset.head()"
   ]
  },
  {
   "cell_type": "code",
   "execution_count": 5,
   "metadata": {},
   "outputs": [
    {
     "data": {
      "text/plain": [
       "RowNumber          0\n",
       "CustomerId         0\n",
       "Surname            0\n",
       "CreditScore        0\n",
       "Geography          0\n",
       "Gender             0\n",
       "Age                0\n",
       "Tenure             0\n",
       "Balance            0\n",
       "NumOfProducts      0\n",
       "HasCrCard          0\n",
       "IsActiveMember     0\n",
       "EstimatedSalary    0\n",
       "Exited             0\n",
       "dtype: int64"
      ]
     },
     "execution_count": 5,
     "metadata": {},
     "output_type": "execute_result"
    }
   ],
   "source": [
    "dataset.isnull().sum()"
   ]
  },
  {
   "cell_type": "code",
   "execution_count": 6,
   "metadata": {},
   "outputs": [
    {
     "data": {
      "text/html": [
       "<div>\n",
       "<style scoped>\n",
       "    .dataframe tbody tr th:only-of-type {\n",
       "        vertical-align: middle;\n",
       "    }\n",
       "\n",
       "    .dataframe tbody tr th {\n",
       "        vertical-align: top;\n",
       "    }\n",
       "\n",
       "    .dataframe thead th {\n",
       "        text-align: right;\n",
       "    }\n",
       "</style>\n",
       "<table border=\"1\" class=\"dataframe\">\n",
       "  <thead>\n",
       "    <tr style=\"text-align: right;\">\n",
       "      <th></th>\n",
       "      <th>CreditScore</th>\n",
       "      <th>Geography</th>\n",
       "      <th>Gender</th>\n",
       "      <th>Age</th>\n",
       "      <th>Tenure</th>\n",
       "      <th>Balance</th>\n",
       "      <th>NumOfProducts</th>\n",
       "      <th>HasCrCard</th>\n",
       "      <th>IsActiveMember</th>\n",
       "      <th>EstimatedSalary</th>\n",
       "    </tr>\n",
       "  </thead>\n",
       "  <tbody>\n",
       "    <tr>\n",
       "      <th>0</th>\n",
       "      <td>619</td>\n",
       "      <td>France</td>\n",
       "      <td>Female</td>\n",
       "      <td>42</td>\n",
       "      <td>2</td>\n",
       "      <td>0.00</td>\n",
       "      <td>1</td>\n",
       "      <td>1</td>\n",
       "      <td>1</td>\n",
       "      <td>101348.88</td>\n",
       "    </tr>\n",
       "    <tr>\n",
       "      <th>1</th>\n",
       "      <td>608</td>\n",
       "      <td>Spain</td>\n",
       "      <td>Female</td>\n",
       "      <td>41</td>\n",
       "      <td>1</td>\n",
       "      <td>83807.86</td>\n",
       "      <td>1</td>\n",
       "      <td>0</td>\n",
       "      <td>1</td>\n",
       "      <td>112542.58</td>\n",
       "    </tr>\n",
       "    <tr>\n",
       "      <th>2</th>\n",
       "      <td>502</td>\n",
       "      <td>France</td>\n",
       "      <td>Female</td>\n",
       "      <td>42</td>\n",
       "      <td>8</td>\n",
       "      <td>159660.80</td>\n",
       "      <td>3</td>\n",
       "      <td>1</td>\n",
       "      <td>0</td>\n",
       "      <td>113931.57</td>\n",
       "    </tr>\n",
       "    <tr>\n",
       "      <th>3</th>\n",
       "      <td>699</td>\n",
       "      <td>France</td>\n",
       "      <td>Female</td>\n",
       "      <td>39</td>\n",
       "      <td>1</td>\n",
       "      <td>0.00</td>\n",
       "      <td>2</td>\n",
       "      <td>0</td>\n",
       "      <td>0</td>\n",
       "      <td>93826.63</td>\n",
       "    </tr>\n",
       "    <tr>\n",
       "      <th>4</th>\n",
       "      <td>850</td>\n",
       "      <td>Spain</td>\n",
       "      <td>Female</td>\n",
       "      <td>43</td>\n",
       "      <td>2</td>\n",
       "      <td>125510.82</td>\n",
       "      <td>1</td>\n",
       "      <td>1</td>\n",
       "      <td>1</td>\n",
       "      <td>79084.10</td>\n",
       "    </tr>\n",
       "  </tbody>\n",
       "</table>\n",
       "</div>"
      ],
      "text/plain": [
       "   CreditScore Geography  Gender  Age  Tenure    Balance  NumOfProducts  \\\n",
       "0          619    France  Female   42       2       0.00              1   \n",
       "1          608     Spain  Female   41       1   83807.86              1   \n",
       "2          502    France  Female   42       8  159660.80              3   \n",
       "3          699    France  Female   39       1       0.00              2   \n",
       "4          850     Spain  Female   43       2  125510.82              1   \n",
       "\n",
       "   HasCrCard  IsActiveMember  EstimatedSalary  \n",
       "0          1               1        101348.88  \n",
       "1          0               1        112542.58  \n",
       "2          1               0        113931.57  \n",
       "3          0               0         93826.63  \n",
       "4          1               1         79084.10  "
      ]
     },
     "execution_count": 6,
     "metadata": {},
     "output_type": "execute_result"
    }
   ],
   "source": [
    "X.head()"
   ]
  },
  {
   "cell_type": "code",
   "execution_count": 7,
   "metadata": {},
   "outputs": [
    {
     "data": {
      "text/plain": [
       "0    1\n",
       "1    0\n",
       "2    1\n",
       "3    0\n",
       "4    0\n",
       "Name: Exited, dtype: int64"
      ]
     },
     "execution_count": 7,
     "metadata": {},
     "output_type": "execute_result"
    }
   ],
   "source": [
    "y.head()"
   ]
  },
  {
   "cell_type": "markdown",
   "metadata": {},
   "source": [
    "#### In our data some categorical variable are there.So,To solve categorical variable problem we use one hot encoding."
   ]
  },
  {
   "cell_type": "code",
   "execution_count": 8,
   "metadata": {
    "id": "N9QNTLkJm8tm"
   },
   "outputs": [],
   "source": [
    "#Create dummy variables\n",
    "geography=pd.get_dummies(X[\"Geography\"],drop_first=True)\n",
    "gender=pd.get_dummies(X['Gender'],drop_first=True)\n"
   ]
  },
  {
   "cell_type": "code",
   "execution_count": 9,
   "metadata": {},
   "outputs": [
    {
     "data": {
      "text/html": [
       "<div>\n",
       "<style scoped>\n",
       "    .dataframe tbody tr th:only-of-type {\n",
       "        vertical-align: middle;\n",
       "    }\n",
       "\n",
       "    .dataframe tbody tr th {\n",
       "        vertical-align: top;\n",
       "    }\n",
       "\n",
       "    .dataframe thead th {\n",
       "        text-align: right;\n",
       "    }\n",
       "</style>\n",
       "<table border=\"1\" class=\"dataframe\">\n",
       "  <thead>\n",
       "    <tr style=\"text-align: right;\">\n",
       "      <th></th>\n",
       "      <th>Germany</th>\n",
       "      <th>Spain</th>\n",
       "    </tr>\n",
       "  </thead>\n",
       "  <tbody>\n",
       "    <tr>\n",
       "      <th>0</th>\n",
       "      <td>0</td>\n",
       "      <td>0</td>\n",
       "    </tr>\n",
       "    <tr>\n",
       "      <th>1</th>\n",
       "      <td>0</td>\n",
       "      <td>1</td>\n",
       "    </tr>\n",
       "    <tr>\n",
       "      <th>2</th>\n",
       "      <td>0</td>\n",
       "      <td>0</td>\n",
       "    </tr>\n",
       "    <tr>\n",
       "      <th>3</th>\n",
       "      <td>0</td>\n",
       "      <td>0</td>\n",
       "    </tr>\n",
       "    <tr>\n",
       "      <th>4</th>\n",
       "      <td>0</td>\n",
       "      <td>1</td>\n",
       "    </tr>\n",
       "    <tr>\n",
       "      <th>...</th>\n",
       "      <td>...</td>\n",
       "      <td>...</td>\n",
       "    </tr>\n",
       "    <tr>\n",
       "      <th>9995</th>\n",
       "      <td>0</td>\n",
       "      <td>0</td>\n",
       "    </tr>\n",
       "    <tr>\n",
       "      <th>9996</th>\n",
       "      <td>0</td>\n",
       "      <td>0</td>\n",
       "    </tr>\n",
       "    <tr>\n",
       "      <th>9997</th>\n",
       "      <td>0</td>\n",
       "      <td>0</td>\n",
       "    </tr>\n",
       "    <tr>\n",
       "      <th>9998</th>\n",
       "      <td>1</td>\n",
       "      <td>0</td>\n",
       "    </tr>\n",
       "    <tr>\n",
       "      <th>9999</th>\n",
       "      <td>0</td>\n",
       "      <td>0</td>\n",
       "    </tr>\n",
       "  </tbody>\n",
       "</table>\n",
       "<p>10000 rows × 2 columns</p>\n",
       "</div>"
      ],
      "text/plain": [
       "      Germany  Spain\n",
       "0           0      0\n",
       "1           0      1\n",
       "2           0      0\n",
       "3           0      0\n",
       "4           0      1\n",
       "...       ...    ...\n",
       "9995        0      0\n",
       "9996        0      0\n",
       "9997        0      0\n",
       "9998        1      0\n",
       "9999        0      0\n",
       "\n",
       "[10000 rows x 2 columns]"
      ]
     },
     "execution_count": 9,
     "metadata": {},
     "output_type": "execute_result"
    }
   ],
   "source": [
    "geography"
   ]
  },
  {
   "cell_type": "code",
   "execution_count": 10,
   "metadata": {
    "id": "rbNc5sLHnAdP"
   },
   "outputs": [],
   "source": [
    "## Concatenate the Data Frames\n",
    "\n",
    "X=pd.concat([X,geography,gender],axis=1)\n",
    "\n",
    "## Drop Unnecessary columns\n",
    "X=X.drop(['Geography','Gender'],axis=1)"
   ]
  },
  {
   "cell_type": "code",
   "execution_count": 11,
   "metadata": {},
   "outputs": [
    {
     "data": {
      "text/plain": [
       "(10000, 11)"
      ]
     },
     "execution_count": 11,
     "metadata": {},
     "output_type": "execute_result"
    }
   ],
   "source": [
    "X.shape"
   ]
  },
  {
   "cell_type": "code",
   "execution_count": 12,
   "metadata": {},
   "outputs": [
    {
     "data": {
      "text/html": [
       "<div>\n",
       "<style scoped>\n",
       "    .dataframe tbody tr th:only-of-type {\n",
       "        vertical-align: middle;\n",
       "    }\n",
       "\n",
       "    .dataframe tbody tr th {\n",
       "        vertical-align: top;\n",
       "    }\n",
       "\n",
       "    .dataframe thead th {\n",
       "        text-align: right;\n",
       "    }\n",
       "</style>\n",
       "<table border=\"1\" class=\"dataframe\">\n",
       "  <thead>\n",
       "    <tr style=\"text-align: right;\">\n",
       "      <th></th>\n",
       "      <th>CreditScore</th>\n",
       "      <th>Age</th>\n",
       "      <th>Tenure</th>\n",
       "      <th>Balance</th>\n",
       "      <th>NumOfProducts</th>\n",
       "      <th>HasCrCard</th>\n",
       "      <th>IsActiveMember</th>\n",
       "      <th>EstimatedSalary</th>\n",
       "      <th>Germany</th>\n",
       "      <th>Spain</th>\n",
       "      <th>Male</th>\n",
       "    </tr>\n",
       "  </thead>\n",
       "  <tbody>\n",
       "    <tr>\n",
       "      <th>0</th>\n",
       "      <td>619</td>\n",
       "      <td>42</td>\n",
       "      <td>2</td>\n",
       "      <td>0.00</td>\n",
       "      <td>1</td>\n",
       "      <td>1</td>\n",
       "      <td>1</td>\n",
       "      <td>101348.88</td>\n",
       "      <td>0</td>\n",
       "      <td>0</td>\n",
       "      <td>0</td>\n",
       "    </tr>\n",
       "    <tr>\n",
       "      <th>1</th>\n",
       "      <td>608</td>\n",
       "      <td>41</td>\n",
       "      <td>1</td>\n",
       "      <td>83807.86</td>\n",
       "      <td>1</td>\n",
       "      <td>0</td>\n",
       "      <td>1</td>\n",
       "      <td>112542.58</td>\n",
       "      <td>0</td>\n",
       "      <td>1</td>\n",
       "      <td>0</td>\n",
       "    </tr>\n",
       "    <tr>\n",
       "      <th>2</th>\n",
       "      <td>502</td>\n",
       "      <td>42</td>\n",
       "      <td>8</td>\n",
       "      <td>159660.80</td>\n",
       "      <td>3</td>\n",
       "      <td>1</td>\n",
       "      <td>0</td>\n",
       "      <td>113931.57</td>\n",
       "      <td>0</td>\n",
       "      <td>0</td>\n",
       "      <td>0</td>\n",
       "    </tr>\n",
       "    <tr>\n",
       "      <th>3</th>\n",
       "      <td>699</td>\n",
       "      <td>39</td>\n",
       "      <td>1</td>\n",
       "      <td>0.00</td>\n",
       "      <td>2</td>\n",
       "      <td>0</td>\n",
       "      <td>0</td>\n",
       "      <td>93826.63</td>\n",
       "      <td>0</td>\n",
       "      <td>0</td>\n",
       "      <td>0</td>\n",
       "    </tr>\n",
       "    <tr>\n",
       "      <th>4</th>\n",
       "      <td>850</td>\n",
       "      <td>43</td>\n",
       "      <td>2</td>\n",
       "      <td>125510.82</td>\n",
       "      <td>1</td>\n",
       "      <td>1</td>\n",
       "      <td>1</td>\n",
       "      <td>79084.10</td>\n",
       "      <td>0</td>\n",
       "      <td>1</td>\n",
       "      <td>0</td>\n",
       "    </tr>\n",
       "  </tbody>\n",
       "</table>\n",
       "</div>"
      ],
      "text/plain": [
       "   CreditScore  Age  Tenure    Balance  NumOfProducts  HasCrCard  \\\n",
       "0          619   42       2       0.00              1          1   \n",
       "1          608   41       1   83807.86              1          0   \n",
       "2          502   42       8  159660.80              3          1   \n",
       "3          699   39       1       0.00              2          0   \n",
       "4          850   43       2  125510.82              1          1   \n",
       "\n",
       "   IsActiveMember  EstimatedSalary  Germany  Spain  Male  \n",
       "0               1        101348.88        0      0     0  \n",
       "1               1        112542.58        0      1     0  \n",
       "2               0        113931.57        0      0     0  \n",
       "3               0         93826.63        0      0     0  \n",
       "4               1         79084.10        0      1     0  "
      ]
     },
     "execution_count": 12,
     "metadata": {},
     "output_type": "execute_result"
    }
   ],
   "source": [
    "X.head()"
   ]
  },
  {
   "cell_type": "markdown",
   "metadata": {},
   "source": [
    "#### Here we split our data into train and test set"
   ]
  },
  {
   "cell_type": "code",
   "execution_count": 13,
   "metadata": {
    "id": "YkYOlHPAnDz_"
   },
   "outputs": [],
   "source": [
    "# Splitting the dataset into the Training set and Test set\n",
    "from sklearn.model_selection import train_test_split\n",
    "X_train, X_test, y_train, y_test = train_test_split(X, y, test_size = 0.2, random_state = 0)\n"
   ]
  },
  {
   "cell_type": "markdown",
   "metadata": {},
   "source": [
    "#### Now we standardise or do scaling."
   ]
  },
  {
   "cell_type": "code",
   "execution_count": 14,
   "metadata": {
    "id": "cP2vl1p9nGyj"
   },
   "outputs": [],
   "source": [
    "# Feature Scaling\n",
    "from sklearn.preprocessing import StandardScaler\n",
    "sc = StandardScaler()\n",
    "X_train = sc.fit_transform(X_train)\n",
    "X_test = sc.transform(X_test)"
   ]
  },
  {
   "cell_type": "code",
   "execution_count": 15,
   "metadata": {},
   "outputs": [
    {
     "data": {
      "text/plain": [
       "array([[ 0.16958176, -0.46460796,  0.00666099, ..., -0.5698444 ,\n",
       "         1.74309049, -1.09168714],\n",
       "       [-2.30455945,  0.30102557, -1.37744033, ...,  1.75486502,\n",
       "        -0.57369368,  0.91601335],\n",
       "       [-1.19119591, -0.94312892, -1.031415  , ..., -0.5698444 ,\n",
       "        -0.57369368, -1.09168714],\n",
       "       ...,\n",
       "       [ 0.9015152 , -0.36890377,  0.00666099, ..., -0.5698444 ,\n",
       "        -0.57369368,  0.91601335],\n",
       "       [-0.62420521, -0.08179119,  1.39076231, ..., -0.5698444 ,\n",
       "         1.74309049, -1.09168714],\n",
       "       [-0.28401079,  0.87525072, -1.37744033, ...,  1.75486502,\n",
       "        -0.57369368, -1.09168714]])"
      ]
     },
     "execution_count": 15,
     "metadata": {},
     "output_type": "execute_result"
    }
   ],
   "source": [
    "X_train"
   ]
  },
  {
   "cell_type": "code",
   "execution_count": 16,
   "metadata": {},
   "outputs": [
    {
     "name": "stdout",
     "output_type": "stream",
     "text": [
      "2.3.0\n"
     ]
    }
   ],
   "source": [
    "import tensorflow\n",
    "print(tensorflow.__version__)"
   ]
  },
  {
   "cell_type": "markdown",
   "metadata": {},
   "source": [
    "#### Import important things .Which we will use to make our ANN model"
   ]
  },
  {
   "cell_type": "code",
   "execution_count": 17,
   "metadata": {
    "id": "9cazFt9anJYm"
   },
   "outputs": [],
   "source": [
    "# Part 2 - Now let's make the ANN!\n",
    "\n",
    "# Importing the Keras libraries and packages\n",
    "import tensorflow.keras\n",
    "from tensorflow.keras.models import Sequential\n",
    "from tensorflow.keras.layers import Dense\n",
    "from tensorflow.keras.layers import Dropout"
   ]
  },
  {
   "cell_type": "markdown",
   "metadata": {},
   "source": [
    "### Now we make our ANN model "
   ]
  },
  {
   "cell_type": "code",
   "execution_count": 18,
   "metadata": {
    "id": "uuQ4aGhjnVfc"
   },
   "outputs": [],
   "source": [
    "# Initialising the ANN\n",
    "classifier = Sequential()\n",
    "\n",
    "# Adding the input layer and the first hidden layer\n",
    "classifier.add(Dense(units = 10,kernel_initializer='he_uniform',activation='relu',input_dim = 11))\n",
    "\n",
    "# Adding the second hidden layer\n",
    "classifier.add(Dense(units = 10, kernel_initializer = 'he_uniform',activation='relu'))\n",
    "# Adding the output layer\n",
    "classifier.add(Dense(units = 1, kernel_initializer = 'glorot_uniform', activation = 'sigmoid'))\n",
    "\n",
    "# Compiling the ANN\n",
    "classifier.compile(optimizer = 'adam', loss = 'binary_crossentropy', metrics = ['accuracy'])"
   ]
  },
  {
   "cell_type": "code",
   "execution_count": 19,
   "metadata": {},
   "outputs": [
    {
     "name": "stdout",
     "output_type": "stream",
     "text": [
      "Model: \"sequential\"\n",
      "_________________________________________________________________\n",
      "Layer (type)                 Output Shape              Param #   \n",
      "=================================================================\n",
      "dense (Dense)                (None, 10)                120       \n",
      "_________________________________________________________________\n",
      "dense_1 (Dense)              (None, 10)                110       \n",
      "_________________________________________________________________\n",
      "dense_2 (Dense)              (None, 1)                 11        \n",
      "=================================================================\n",
      "Total params: 241\n",
      "Trainable params: 241\n",
      "Non-trainable params: 0\n",
      "_________________________________________________________________\n"
     ]
    }
   ],
   "source": [
    "classifier.summary()"
   ]
  },
  {
   "cell_type": "code",
   "execution_count": 20,
   "metadata": {},
   "outputs": [
    {
     "data": {
      "text/plain": [
       "(8000, 11)"
      ]
     },
     "execution_count": 20,
     "metadata": {},
     "output_type": "execute_result"
    }
   ],
   "source": [
    "X_train.shape"
   ]
  },
  {
   "cell_type": "code",
   "execution_count": 22,
   "metadata": {
    "colab": {
     "base_uri": "https://localhost:8080/",
     "height": 1000
    },
    "id": "zQ50oSx9nciT",
    "outputId": "ea283f91-265a-4c68-d55b-c0d687801e59"
   },
   "outputs": [
    {
     "name": "stdout",
     "output_type": "stream",
     "text": [
      "Epoch 1/100\n",
      "54/54 [==============================] - 1s 11ms/step - loss: 0.6762 - accuracy: 0.6210 - val_loss: 0.5912 - val_accuracy: 0.7160\n",
      "Epoch 2/100\n",
      "54/54 [==============================] - 0s 4ms/step - loss: 0.5639 - accuracy: 0.7500 - val_loss: 0.5223 - val_accuracy: 0.7906\n",
      "Epoch 3/100\n",
      "54/54 [==============================] - 0s 4ms/step - loss: 0.5134 - accuracy: 0.7959 - val_loss: 0.4878 - val_accuracy: 0.8099\n",
      "Epoch 4/100\n",
      "54/54 [==============================] - 0s 5ms/step - loss: 0.4815 - accuracy: 0.8065 - val_loss: 0.4654 - val_accuracy: 0.8183\n",
      "Epoch 5/100\n",
      "54/54 [==============================] - 0s 4ms/step - loss: 0.4588 - accuracy: 0.8132 - val_loss: 0.4503 - val_accuracy: 0.8243\n",
      "Epoch 6/100\n",
      "54/54 [==============================] - 0s 4ms/step - loss: 0.4417 - accuracy: 0.8205 - val_loss: 0.4400 - val_accuracy: 0.8247\n",
      "Epoch 7/100\n",
      "54/54 [==============================] - 0s 4ms/step - loss: 0.4287 - accuracy: 0.8246 - val_loss: 0.4317 - val_accuracy: 0.8251\n",
      "Epoch 8/100\n",
      "54/54 [==============================] - 0s 4ms/step - loss: 0.4185 - accuracy: 0.8285 - val_loss: 0.4254 - val_accuracy: 0.8236\n",
      "Epoch 9/100\n",
      "54/54 [==============================] - 0s 4ms/step - loss: 0.4105 - accuracy: 0.8308 - val_loss: 0.4200 - val_accuracy: 0.8270\n",
      "Epoch 10/100\n",
      "54/54 [==============================] - 0s 4ms/step - loss: 0.4040 - accuracy: 0.8349 - val_loss: 0.4168 - val_accuracy: 0.8262\n",
      "Epoch 11/100\n",
      "54/54 [==============================] - 0s 6ms/step - loss: 0.3984 - accuracy: 0.8369 - val_loss: 0.4123 - val_accuracy: 0.8273\n",
      "Epoch 12/100\n",
      "54/54 [==============================] - 0s 5ms/step - loss: 0.3935 - accuracy: 0.8395 - val_loss: 0.4089 - val_accuracy: 0.8266\n",
      "Epoch 13/100\n",
      "54/54 [==============================] - 0s 5ms/step - loss: 0.3895 - accuracy: 0.8408 - val_loss: 0.4062 - val_accuracy: 0.8281\n",
      "Epoch 14/100\n",
      "54/54 [==============================] - 0s 5ms/step - loss: 0.3858 - accuracy: 0.8427 - val_loss: 0.4039 - val_accuracy: 0.8281\n",
      "Epoch 15/100\n",
      "54/54 [==============================] - 0s 4ms/step - loss: 0.3827 - accuracy: 0.8453 - val_loss: 0.4015 - val_accuracy: 0.8296\n",
      "Epoch 16/100\n",
      "54/54 [==============================] - 0s 4ms/step - loss: 0.3798 - accuracy: 0.8449 - val_loss: 0.3994 - val_accuracy: 0.8296\n",
      "Epoch 17/100\n",
      "54/54 [==============================] - 0s 4ms/step - loss: 0.3770 - accuracy: 0.8464 - val_loss: 0.3976 - val_accuracy: 0.8330\n",
      "Epoch 18/100\n",
      "54/54 [==============================] - 0s 5ms/step - loss: 0.3747 - accuracy: 0.8472 - val_loss: 0.3957 - val_accuracy: 0.8334\n",
      "Epoch 19/100\n",
      "54/54 [==============================] - 0s 4ms/step - loss: 0.3722 - accuracy: 0.8472 - val_loss: 0.3942 - val_accuracy: 0.8342\n",
      "Epoch 20/100\n",
      "54/54 [==============================] - 0s 5ms/step - loss: 0.3702 - accuracy: 0.8496 - val_loss: 0.3926 - val_accuracy: 0.8353\n",
      "Epoch 21/100\n",
      "54/54 [==============================] - 0s 6ms/step - loss: 0.3679 - accuracy: 0.8505 - val_loss: 0.3916 - val_accuracy: 0.8360\n",
      "Epoch 22/100\n",
      "54/54 [==============================] - 0s 4ms/step - loss: 0.3664 - accuracy: 0.8490 - val_loss: 0.3899 - val_accuracy: 0.8368\n",
      "Epoch 23/100\n",
      "54/54 [==============================] - 0s 5ms/step - loss: 0.3641 - accuracy: 0.8517 - val_loss: 0.3887 - val_accuracy: 0.8379\n",
      "Epoch 24/100\n",
      "54/54 [==============================] - 0s 6ms/step - loss: 0.3622 - accuracy: 0.8513 - val_loss: 0.3870 - val_accuracy: 0.8368\n",
      "Epoch 25/100\n",
      "54/54 [==============================] - 0s 5ms/step - loss: 0.3605 - accuracy: 0.8520 - val_loss: 0.3857 - val_accuracy: 0.8368\n",
      "Epoch 26/100\n",
      "54/54 [==============================] - 0s 4ms/step - loss: 0.3586 - accuracy: 0.8528 - val_loss: 0.3838 - val_accuracy: 0.8387\n",
      "Epoch 27/100\n",
      "54/54 [==============================] - 0s 4ms/step - loss: 0.3571 - accuracy: 0.8546 - val_loss: 0.3830 - val_accuracy: 0.8398\n",
      "Epoch 28/100\n",
      "54/54 [==============================] - 0s 5ms/step - loss: 0.3556 - accuracy: 0.8543 - val_loss: 0.3814 - val_accuracy: 0.8413\n",
      "Epoch 29/100\n",
      "54/54 [==============================] - 0s 5ms/step - loss: 0.3541 - accuracy: 0.8550 - val_loss: 0.3810 - val_accuracy: 0.8406\n",
      "Epoch 30/100\n",
      "54/54 [==============================] - 0s 6ms/step - loss: 0.3525 - accuracy: 0.8556 - val_loss: 0.3795 - val_accuracy: 0.8432\n",
      "Epoch 31/100\n",
      "54/54 [==============================] - 0s 5ms/step - loss: 0.3522 - accuracy: 0.8563 - val_loss: 0.3785 - val_accuracy: 0.8429\n",
      "Epoch 32/100\n",
      "54/54 [==============================] - 0s 4ms/step - loss: 0.3506 - accuracy: 0.8567 - val_loss: 0.3786 - val_accuracy: 0.8436\n",
      "Epoch 33/100\n",
      "54/54 [==============================] - 0s 4ms/step - loss: 0.3500 - accuracy: 0.8586 - val_loss: 0.3777 - val_accuracy: 0.8429\n",
      "Epoch 34/100\n",
      "54/54 [==============================] - 0s 4ms/step - loss: 0.3491 - accuracy: 0.8556 - val_loss: 0.3773 - val_accuracy: 0.8432\n",
      "Epoch 35/100\n",
      "54/54 [==============================] - 0s 4ms/step - loss: 0.3480 - accuracy: 0.8589 - val_loss: 0.3767 - val_accuracy: 0.8413\n",
      "Epoch 36/100\n",
      "54/54 [==============================] - 0s 6ms/step - loss: 0.3474 - accuracy: 0.8578 - val_loss: 0.3762 - val_accuracy: 0.8429\n",
      "Epoch 37/100\n",
      "54/54 [==============================] - 0s 4ms/step - loss: 0.3466 - accuracy: 0.8597 - val_loss: 0.3758 - val_accuracy: 0.8448\n",
      "Epoch 38/100\n",
      "54/54 [==============================] - 0s 5ms/step - loss: 0.3463 - accuracy: 0.8602 - val_loss: 0.3753 - val_accuracy: 0.8459\n",
      "Epoch 39/100\n",
      "54/54 [==============================] - 0s 4ms/step - loss: 0.3455 - accuracy: 0.8586 - val_loss: 0.3755 - val_accuracy: 0.8444\n",
      "Epoch 40/100\n",
      "54/54 [==============================] - 0s 4ms/step - loss: 0.3451 - accuracy: 0.8600 - val_loss: 0.3751 - val_accuracy: 0.8455\n",
      "Epoch 41/100\n",
      "54/54 [==============================] - 0s 4ms/step - loss: 0.3443 - accuracy: 0.8582 - val_loss: 0.3750 - val_accuracy: 0.8474\n",
      "Epoch 42/100\n",
      "54/54 [==============================] - 0s 4ms/step - loss: 0.3440 - accuracy: 0.8597 - val_loss: 0.3749 - val_accuracy: 0.8466\n",
      "Epoch 43/100\n",
      "54/54 [==============================] - 0s 5ms/step - loss: 0.3436 - accuracy: 0.8587 - val_loss: 0.3748 - val_accuracy: 0.8455\n",
      "Epoch 44/100\n",
      "54/54 [==============================] - 0s 5ms/step - loss: 0.3432 - accuracy: 0.8597 - val_loss: 0.3740 - val_accuracy: 0.8459\n",
      "Epoch 45/100\n",
      "54/54 [==============================] - 0s 6ms/step - loss: 0.3429 - accuracy: 0.8589 - val_loss: 0.3742 - val_accuracy: 0.8470\n",
      "Epoch 46/100\n",
      "54/54 [==============================] - 0s 5ms/step - loss: 0.3420 - accuracy: 0.8600 - val_loss: 0.3749 - val_accuracy: 0.8436\n",
      "Epoch 47/100\n",
      "54/54 [==============================] - 0s 5ms/step - loss: 0.3420 - accuracy: 0.8589 - val_loss: 0.3739 - val_accuracy: 0.8470\n",
      "Epoch 48/100\n",
      "54/54 [==============================] - 0s 5ms/step - loss: 0.3416 - accuracy: 0.8614 - val_loss: 0.3737 - val_accuracy: 0.8459\n",
      "Epoch 49/100\n",
      "54/54 [==============================] - 0s 4ms/step - loss: 0.3412 - accuracy: 0.8591 - val_loss: 0.3735 - val_accuracy: 0.8459\n",
      "Epoch 50/100\n",
      "54/54 [==============================] - 0s 5ms/step - loss: 0.3409 - accuracy: 0.8600 - val_loss: 0.3736 - val_accuracy: 0.8466\n",
      "Epoch 51/100\n",
      "54/54 [==============================] - 0s 6ms/step - loss: 0.3406 - accuracy: 0.8610 - val_loss: 0.3736 - val_accuracy: 0.8470\n",
      "Epoch 52/100\n",
      "54/54 [==============================] - 0s 5ms/step - loss: 0.3406 - accuracy: 0.8587 - val_loss: 0.3742 - val_accuracy: 0.8478\n",
      "Epoch 53/100\n",
      "54/54 [==============================] - 0s 5ms/step - loss: 0.3401 - accuracy: 0.8600 - val_loss: 0.3741 - val_accuracy: 0.8489\n",
      "Epoch 54/100\n",
      "54/54 [==============================] - 0s 6ms/step - loss: 0.3396 - accuracy: 0.8615 - val_loss: 0.3737 - val_accuracy: 0.8463\n",
      "Epoch 55/100\n",
      "54/54 [==============================] - 0s 5ms/step - loss: 0.3399 - accuracy: 0.8612 - val_loss: 0.3743 - val_accuracy: 0.8470\n",
      "Epoch 56/100\n",
      "54/54 [==============================] - 0s 4ms/step - loss: 0.3388 - accuracy: 0.8614 - val_loss: 0.3740 - val_accuracy: 0.8459\n",
      "Epoch 57/100\n",
      "54/54 [==============================] - 0s 4ms/step - loss: 0.3391 - accuracy: 0.8621 - val_loss: 0.3735 - val_accuracy: 0.8474\n",
      "Epoch 58/100\n",
      "54/54 [==============================] - 0s 4ms/step - loss: 0.3387 - accuracy: 0.8610 - val_loss: 0.3736 - val_accuracy: 0.8474\n"
     ]
    },
    {
     "name": "stdout",
     "output_type": "stream",
     "text": [
      "Epoch 59/100\n",
      "54/54 [==============================] - 0s 4ms/step - loss: 0.3385 - accuracy: 0.8623 - val_loss: 0.3735 - val_accuracy: 0.8466\n",
      "Epoch 60/100\n",
      "54/54 [==============================] - 0s 5ms/step - loss: 0.3380 - accuracy: 0.8606 - val_loss: 0.3735 - val_accuracy: 0.8466\n",
      "Epoch 61/100\n",
      "54/54 [==============================] - 0s 4ms/step - loss: 0.3384 - accuracy: 0.8602 - val_loss: 0.3733 - val_accuracy: 0.8474\n",
      "Epoch 62/100\n",
      "54/54 [==============================] - 0s 5ms/step - loss: 0.3377 - accuracy: 0.8623 - val_loss: 0.3733 - val_accuracy: 0.8463\n",
      "Epoch 63/100\n",
      "54/54 [==============================] - 0s 4ms/step - loss: 0.3374 - accuracy: 0.8617 - val_loss: 0.3732 - val_accuracy: 0.8478\n",
      "Epoch 64/100\n",
      "54/54 [==============================] - 0s 4ms/step - loss: 0.3375 - accuracy: 0.8627 - val_loss: 0.3734 - val_accuracy: 0.8470\n",
      "Epoch 65/100\n",
      "54/54 [==============================] - 0s 4ms/step - loss: 0.3372 - accuracy: 0.8630 - val_loss: 0.3733 - val_accuracy: 0.8466\n",
      "Epoch 66/100\n",
      "54/54 [==============================] - 0s 7ms/step - loss: 0.3371 - accuracy: 0.8627 - val_loss: 0.3730 - val_accuracy: 0.8470\n",
      "Epoch 67/100\n",
      "54/54 [==============================] - 0s 5ms/step - loss: 0.3369 - accuracy: 0.8628 - val_loss: 0.3731 - val_accuracy: 0.8478\n",
      "Epoch 68/100\n",
      "54/54 [==============================] - 0s 4ms/step - loss: 0.3367 - accuracy: 0.8634 - val_loss: 0.3736 - val_accuracy: 0.8463\n",
      "Epoch 69/100\n",
      "54/54 [==============================] - 0s 5ms/step - loss: 0.3366 - accuracy: 0.8630 - val_loss: 0.3732 - val_accuracy: 0.8478\n",
      "Epoch 70/100\n",
      "54/54 [==============================] - 0s 4ms/step - loss: 0.3365 - accuracy: 0.8615 - val_loss: 0.3731 - val_accuracy: 0.8463\n",
      "Epoch 71/100\n",
      "54/54 [==============================] - 0s 4ms/step - loss: 0.3366 - accuracy: 0.8621 - val_loss: 0.3738 - val_accuracy: 0.8470\n",
      "Epoch 72/100\n",
      "54/54 [==============================] - 0s 4ms/step - loss: 0.3363 - accuracy: 0.8606 - val_loss: 0.3737 - val_accuracy: 0.8489\n",
      "Epoch 73/100\n",
      "54/54 [==============================] - 0s 5ms/step - loss: 0.3358 - accuracy: 0.8617 - val_loss: 0.3736 - val_accuracy: 0.8485\n",
      "Epoch 74/100\n",
      "54/54 [==============================] - 0s 5ms/step - loss: 0.3360 - accuracy: 0.8642 - val_loss: 0.3734 - val_accuracy: 0.8485\n",
      "Epoch 75/100\n",
      "54/54 [==============================] - 0s 4ms/step - loss: 0.3360 - accuracy: 0.8632 - val_loss: 0.3736 - val_accuracy: 0.8478\n",
      "Epoch 76/100\n",
      "54/54 [==============================] - 0s 4ms/step - loss: 0.3357 - accuracy: 0.8636 - val_loss: 0.3731 - val_accuracy: 0.8482\n",
      "Epoch 77/100\n",
      "54/54 [==============================] - 0s 5ms/step - loss: 0.3352 - accuracy: 0.8632 - val_loss: 0.3732 - val_accuracy: 0.8474\n",
      "Epoch 78/100\n",
      "54/54 [==============================] - 0s 5ms/step - loss: 0.3354 - accuracy: 0.8627 - val_loss: 0.3732 - val_accuracy: 0.8478\n",
      "Epoch 79/100\n",
      "54/54 [==============================] - 0s 4ms/step - loss: 0.3348 - accuracy: 0.8634 - val_loss: 0.3732 - val_accuracy: 0.8482\n",
      "Epoch 80/100\n",
      "54/54 [==============================] - 0s 4ms/step - loss: 0.3348 - accuracy: 0.8619 - val_loss: 0.3736 - val_accuracy: 0.8482\n",
      "Epoch 81/100\n",
      "54/54 [==============================] - 0s 5ms/step - loss: 0.3351 - accuracy: 0.8634 - val_loss: 0.3735 - val_accuracy: 0.8493\n",
      "Epoch 82/100\n",
      "54/54 [==============================] - 0s 5ms/step - loss: 0.3349 - accuracy: 0.8645 - val_loss: 0.3733 - val_accuracy: 0.8489\n",
      "Epoch 83/100\n",
      "54/54 [==============================] - 0s 4ms/step - loss: 0.3342 - accuracy: 0.8630 - val_loss: 0.3731 - val_accuracy: 0.8493\n",
      "Epoch 84/100\n",
      "54/54 [==============================] - 0s 4ms/step - loss: 0.3344 - accuracy: 0.8643 - val_loss: 0.3730 - val_accuracy: 0.8497\n",
      "Epoch 85/100\n",
      "54/54 [==============================] - 0s 5ms/step - loss: 0.3342 - accuracy: 0.8642 - val_loss: 0.3731 - val_accuracy: 0.8485\n",
      "Epoch 86/100\n",
      "54/54 [==============================] - 0s 4ms/step - loss: 0.3340 - accuracy: 0.8643 - val_loss: 0.3730 - val_accuracy: 0.8493\n",
      "Epoch 87/100\n",
      "54/54 [==============================] - 0s 4ms/step - loss: 0.3344 - accuracy: 0.8610 - val_loss: 0.3729 - val_accuracy: 0.8493\n",
      "Epoch 88/100\n",
      "54/54 [==============================] - 0s 4ms/step - loss: 0.3337 - accuracy: 0.8647 - val_loss: 0.3732 - val_accuracy: 0.8482\n",
      "Epoch 89/100\n",
      "54/54 [==============================] - 0s 5ms/step - loss: 0.3336 - accuracy: 0.8642 - val_loss: 0.3731 - val_accuracy: 0.8497\n",
      "Epoch 90/100\n",
      "54/54 [==============================] - 0s 5ms/step - loss: 0.3337 - accuracy: 0.8645 - val_loss: 0.3728 - val_accuracy: 0.8489\n",
      "Epoch 91/100\n",
      "54/54 [==============================] - 0s 4ms/step - loss: 0.3333 - accuracy: 0.8645 - val_loss: 0.3732 - val_accuracy: 0.8485\n",
      "Epoch 92/100\n",
      "54/54 [==============================] - 0s 4ms/step - loss: 0.3333 - accuracy: 0.8643 - val_loss: 0.3732 - val_accuracy: 0.8463\n",
      "Epoch 93/100\n",
      "54/54 [==============================] - 0s 4ms/step - loss: 0.3332 - accuracy: 0.8655 - val_loss: 0.3733 - val_accuracy: 0.8482\n",
      "Epoch 94/100\n",
      "54/54 [==============================] - 0s 4ms/step - loss: 0.3333 - accuracy: 0.8649 - val_loss: 0.3729 - val_accuracy: 0.8489\n",
      "Epoch 95/100\n",
      "54/54 [==============================] - 0s 4ms/step - loss: 0.3333 - accuracy: 0.8647 - val_loss: 0.3729 - val_accuracy: 0.8489\n",
      "Epoch 96/100\n",
      "54/54 [==============================] - 0s 4ms/step - loss: 0.3327 - accuracy: 0.8656 - val_loss: 0.3734 - val_accuracy: 0.8459\n",
      "Epoch 97/100\n",
      "54/54 [==============================] - 0s 4ms/step - loss: 0.3325 - accuracy: 0.8647 - val_loss: 0.3731 - val_accuracy: 0.8482\n",
      "Epoch 98/100\n",
      "54/54 [==============================] - 0s 5ms/step - loss: 0.3327 - accuracy: 0.8655 - val_loss: 0.3725 - val_accuracy: 0.8463\n",
      "Epoch 99/100\n",
      "54/54 [==============================] - 0s 4ms/step - loss: 0.3326 - accuracy: 0.8645 - val_loss: 0.3728 - val_accuracy: 0.8463\n",
      "Epoch 100/100\n",
      "54/54 [==============================] - 0s 4ms/step - loss: 0.3323 - accuracy: 0.8645 - val_loss: 0.3728 - val_accuracy: 0.8455\n"
     ]
    }
   ],
   "source": [
    "# Fitting the ANN to the Training set\n",
    "model_history=classifier.fit(X_train, y_train,validation_split=0.33, batch_size = 100,epochs = 100)"
   ]
  },
  {
   "cell_type": "code",
   "execution_count": 23,
   "metadata": {},
   "outputs": [
    {
     "data": {
      "text/plain": [
       "dict_keys(['loss', 'accuracy', 'val_loss', 'val_accuracy'])"
      ]
     },
     "execution_count": 23,
     "metadata": {},
     "output_type": "execute_result"
    }
   ],
   "source": [
    "model_history.history.keys()"
   ]
  },
  {
   "cell_type": "markdown",
   "metadata": {},
   "source": [
    "### Now we see our train and test accuracy"
   ]
  },
  {
   "cell_type": "code",
   "execution_count": 24,
   "metadata": {
    "colab": {
     "base_uri": "https://localhost:8080/",
     "height": 312
    },
    "id": "9YYQKNLFoGqY",
    "outputId": "f170571c-a7cf-4383-af87-7819a4bb025c"
   },
   "outputs": [
    {
     "name": "stdout",
     "output_type": "stream",
     "text": [
      "dict_keys(['loss', 'accuracy', 'val_loss', 'val_accuracy'])\n"
     ]
    },
    {
     "data": {
      "image/png": "[encoded data removed]",
      "text/plain": [
       "<Figure size 432x288 with 1 Axes>"
      ]
     },
     "metadata": {
      "needs_background": "light"
     },
     "output_type": "display_data"
    }
   ],
   "source": [
    "print(model_history.history.keys())\n",
    "plt.plot(model_history.history['accuracy'])\n",
    "plt.plot(model_history.history['val_accuracy'])\n",
    "plt.title('model accuracy')\n",
    "plt.ylabel('accuracy')\n",
    "plt.xlabel('epoch')\n",
    "plt.legend(['train', 'test'], loc='upper left')\n",
    "plt.show()"
   ]
  },
  {
   "cell_type": "code",
   "execution_count": 25,
   "metadata": {
    "colab": {
     "base_uri": "https://localhost:8080/",
     "height": 295
    },
    "id": "SxqMInP_ogni",
    "outputId": "835a8964-4895-4e22-958d-22f94f7ba258"
   },
   "outputs": [
    {
     "data": {
      "image/png": "[encoded data removed]",
      "text/plain": [
       "<Figure size 432x288 with 1 Axes>"
      ]
     },
     "metadata": {
      "needs_background": "light"
     },
     "output_type": "display_data"
    }
   ],
   "source": [
    "# summarize history for loss\n",
    "plt.plot(model_history.history['loss'])\n",
    "plt.plot(model_history.history['val_loss'])\n",
    "plt.title('model loss')\n",
    "plt.ylabel('loss')\n",
    "plt.xlabel('epoch')\n",
    "plt.legend(['train', 'test'], loc='upper left')\n",
    "plt.show()"
   ]
  },
  {
   "cell_type": "code",
   "execution_count": 26,
   "metadata": {
    "id": "y2_wiHsdor3R"
   },
   "outputs": [],
   "source": [
    "# Part 3 - Making the predictions and evaluating the model\n",
    "\n",
    "# Predicting the Test set results\n",
    "y_pred = classifier.predict(X_test)\n",
    "y_pred = (y_pred > 0.5)"
   ]
  },
  {
   "cell_type": "code",
   "execution_count": 27,
   "metadata": {},
   "outputs": [
    {
     "data": {
      "text/plain": [
       "array([[False],\n",
       "       [False],\n",
       "       [False],\n",
       "       ...,\n",
       "       [False],\n",
       "       [False],\n",
       "       [False]])"
      ]
     },
     "execution_count": 27,
     "metadata": {},
     "output_type": "execute_result"
    }
   ],
   "source": [
    "y_pred"
   ]
  },
  {
   "cell_type": "code",
   "execution_count": 28,
   "metadata": {
    "id": "6aOhNA4iovzu"
   },
   "outputs": [],
   "source": [
    "# Making the Confusion Matrix\n",
    "from sklearn.metrics import confusion_matrix\n",
    "cm = confusion_matrix(y_test, y_pred)"
   ]
  },
  {
   "cell_type": "code",
   "execution_count": 29,
   "metadata": {
    "colab": {
     "base_uri": "https://localhost:8080/",
     "height": 51
    },
    "id": "my6JGfzioxy2",
    "outputId": "cb6636fb-91ab-43a9-e628-b5fc35e56d31"
   },
   "outputs": [
    {
     "data": {
      "text/plain": [
       "array([[1521,   74],\n",
       "       [ 209,  196]], dtype=int64)"
      ]
     },
     "execution_count": 29,
     "metadata": {},
     "output_type": "execute_result"
    }
   ],
   "source": [
    "cm"
   ]
  },
  {
   "cell_type": "code",
   "execution_count": 30,
   "metadata": {
    "id": "G4FVoJl7oyr_"
   },
   "outputs": [],
   "source": [
    "# Calculate the Accuracy\n",
    "from sklearn.metrics import accuracy_score\n",
    "score=accuracy_score(y_pred,y_test)"
   ]
  },
  {
   "cell_type": "code",
   "execution_count": 31,
   "metadata": {
    "colab": {
     "base_uri": "https://localhost:8080/",
     "height": 34
    },
    "id": "Y4Nlv_pjo1GQ",
    "outputId": "74725c7a-4272-4081-ea3a-a94d3ccca9a0"
   },
   "outputs": [
    {
     "data": {
      "text/plain": [
       "0.8585"
      ]
     },
     "execution_count": 31,
     "metadata": {},
     "output_type": "execute_result"
    }
   ],
   "source": [
    "score"
   ]
  },
  {
   "cell_type": "markdown",
   "metadata": {
    "id": "791inrxho2zL"
   },
   "source": [
    "### Hey!!! We create our classification model by ANN . Our accuracy is also good. "
   ]
  }
 ],
 "metadata": {
  "accelerator": "GPU",
  "colab": {
   "name": "GIMANN.ipynb",
   "provenance": []
  },
  "kernelspec": {
   "display_name": "Python 3",
   "language": "python",
   "name": "python3"
  },
  "language_info": {
   "codemirror_mode": {
    "name": "ipython",
    "version": 3
   },
   "file_extension": ".py",
   "mimetype": "text/x-python",
   "name": "python",
   "nbconvert_exporter": "python",
   "pygments_lexer": "ipython3",
   "version": "3.6.9"
  }
 },
 "nbformat": 4,
 "nbformat_minor": 1
}
