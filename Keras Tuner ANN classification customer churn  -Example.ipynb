{
 "cells": [
  {
   "cell_type": "markdown",
   "metadata": {},
   "source": [
    "### How to use keras Tuner in our ANN model\n",
    "#### We use keras Tuner to select some of the best parameter to make a perfect or good model.\n",
    "* Lets See how to us it!!!\n",
    "#### First, We import libraries and divide our data into test and train split."
   ]
  },
  {
   "cell_type": "code",
   "execution_count": 1,
   "metadata": {},
   "outputs": [],
   "source": [
    "import pandas as pd\n",
    "dataset = pd.read_csv('Churn_Modelling.csv') # Importing the dataset\n",
    "X = dataset.iloc[:, 3:13]\n",
    "y = dataset.iloc[:, 13]\n",
    "\n",
    "geography=pd.get_dummies(X[\"Geography\"],drop_first=True) # Implement one-hot encoding\n",
    "gender=pd.get_dummies(X['Gender'],drop_first=True)\n",
    "\n",
    "\n",
    "X=pd.concat([X,geography,gender],axis=1)## Concatenate the Data Frames\n",
    "\n",
    "\n",
    "X=X.drop(['Geography','Gender'],axis=1)## Drop Unnecessary columns\n",
    "\n",
    "from sklearn.model_selection import train_test_split # Splitting the dataset into the Training set and Test set\n",
    "X_train, X_test, y_train, y_test = train_test_split(X, y, test_size = 0.2, random_state = 0)\n"
   ]
  },
  {
   "cell_type": "code",
   "execution_count": 2,
   "metadata": {},
   "outputs": [
    {
     "data": {
      "text/plain": [
       "(8000, 11)"
      ]
     },
     "execution_count": 2,
     "metadata": {},
     "output_type": "execute_result"
    }
   ],
   "source": [
    "X_train.shape"
   ]
  },
  {
   "cell_type": "markdown",
   "metadata": {},
   "source": [
    "#### Now We make a function and give some parameter to check.Which parameter perform good .\n",
    "#### For more detail information .Kindly refer Keras Tunner official documantaion. Click Here !!!\n",
    "* https://keras-team.github.io/keras-tuner/"
   ]
  },
  {
   "cell_type": "code",
   "execution_count": 3,
   "metadata": {},
   "outputs": [],
   "source": [
    "def build_model(hp):        \n",
    "    model = keras.Sequential()\n",
    "    for i in range(hp.Int('num_layers', 2, 20)):\n",
    "        model.add(layers.Dense(units=hp.Int('units_' + str(i),\n",
    "                                            min_value=32,\n",
    "                                            max_value=512,\n",
    "                                            step=32),\n",
    "                               activation='relu'))\n",
    "    model.add(layers.Dense(1, activation='sigmoid'))\n",
    "    model.compile(\n",
    "        optimizer=keras.optimizers.Adam(\n",
    "            hp.Choice('learning_rate', [1e-2, 1e-3, 1e-4])),\n",
    "        loss='binary_crossentropy',\n",
    "        metrics=['accuracy'])\n",
    "    return model"
   ]
  },
  {
   "cell_type": "code",
   "execution_count": 4,
   "metadata": {},
   "outputs": [],
   "source": [
    "from tensorflow import keras\n",
    "from tensorflow.keras import layers\n",
    "from kerastuner.tuners import RandomSearch\n",
    "tuner = RandomSearch(                      # To fit our model \n",
    "    build_model,\n",
    "    objective='val_accuracy',\n",
    "    max_trials=5,\n",
    "    executions_per_trial=3,\n",
    "    directory='project1',\n",
    "    project_name='Churn')"
   ]
  },
  {
   "cell_type": "code",
   "execution_count": 5,
   "metadata": {},
   "outputs": [
    {
     "name": "stdout",
     "output_type": "stream",
     "text": [
      "Search space summary\n",
      "Default search space size: 4\n",
      "num_layers (Int)\n",
      "{'default': None, 'conditions': [], 'min_value': 2, 'max_value': 20, 'step': 1, 'sampling': None}\n",
      "units_0 (Int)\n",
      "{'default': None, 'conditions': [], 'min_value': 32, 'max_value': 512, 'step': 32, 'sampling': None}\n",
      "units_1 (Int)\n",
      "{'default': None, 'conditions': [], 'min_value': 32, 'max_value': 512, 'step': 32, 'sampling': None}\n",
      "learning_rate (Choice)\n",
      "{'default': 0.01, 'conditions': [], 'values': [0.01, 0.001, 0.0001], 'ordered': True}\n"
     ]
    }
   ],
   "source": [
    "tuner.search_space_summary() #To check the su"
   ]
  },
  {
   "cell_type": "markdown",
   "metadata": {},
   "source": [
    "### Here we want to go for 5 trails(5 epochs)"
   ]
  },
  {
   "cell_type": "code",
   "execution_count": 6,
   "metadata": {},
   "outputs": [
    {
     "name": "stdout",
     "output_type": "stream",
     "text": [
      "Trial 5 Complete [00h 01m 13s]\n",
      "val_accuracy: 0.7975000143051147\n",
      "\n",
      "Best val_accuracy So Far: 0.7975000143051147\n",
      "Total elapsed time: 00h 04m 26s\n",
      "INFO:tensorflow:Oracle triggered exit\n"
     ]
    }
   ],
   "source": [
    "tuner.search(X_train, y_train,\n",
    "             epochs=5,\n",
    "             validation_data=(X_test, y_test))"
   ]
  },
  {
   "cell_type": "markdown",
   "metadata": {},
   "source": [
    "### Here we check the best parameter "
   ]
  },
  {
   "cell_type": "code",
   "execution_count": 7,
   "metadata": {},
   "outputs": [
    {
     "data": {
      "text/plain": [
       "<bound method BaseTuner.get_best_hyperparameters of <kerastuner.tuners.randomsearch.RandomSearch object at 0x00000154CAE1E240>>"
      ]
     },
     "execution_count": 7,
     "metadata": {},
     "output_type": "execute_result"
    }
   ],
   "source": [
    "tuner.get_best_hyperparameters"
   ]
  },
  {
   "cell_type": "code",
   "execution_count": 12,
   "metadata": {},
   "outputs": [],
   "source": [
    "models=tuner.get_best_models(num_models=2)"
   ]
  },
  {
   "cell_type": "markdown",
   "metadata": {},
   "source": [
    "#### Here we check top parmeter which will give you best result."
   ]
  },
  {
   "cell_type": "code",
   "execution_count": 14,
   "metadata": {},
   "outputs": [
    {
     "name": "stdout",
     "output_type": "stream",
     "text": [
      "Results summary\n",
      "Results in project1\\Churn\n",
      "Showing 10 best trials\n",
      "Objective(name='val_accuracy', direction='max')\n",
      "Trial summary\n",
      "Hyperparameters:\n",
      "num_layers: 9\n",
      "units_0: 448\n",
      "units_1: 384\n",
      "learning_rate: 0.001\n",
      "units_2: 32\n",
      "units_3: 32\n",
      "units_4: 32\n",
      "units_5: 32\n",
      "units_6: 32\n",
      "units_7: 32\n",
      "units_8: 32\n",
      "Score: 0.7975000143051147\n",
      "Trial summary\n",
      "Hyperparameters:\n",
      "num_layers: 12\n",
      "units_0: 160\n",
      "units_1: 96\n",
      "learning_rate: 0.0001\n",
      "units_2: 384\n",
      "units_3: 352\n",
      "units_4: 384\n",
      "units_5: 384\n",
      "units_6: 256\n",
      "units_7: 352\n",
      "units_8: 352\n",
      "units_9: 32\n",
      "units_10: 32\n",
      "units_11: 32\n",
      "Score: 0.7975000143051147\n",
      "Trial summary\n",
      "Hyperparameters:\n",
      "num_layers: 7\n",
      "units_0: 512\n",
      "units_1: 384\n",
      "learning_rate: 0.0001\n",
      "units_2: 352\n",
      "units_3: 352\n",
      "units_4: 448\n",
      "units_5: 320\n",
      "units_6: 352\n",
      "units_7: 224\n",
      "units_8: 96\n",
      "units_9: 128\n",
      "units_10: 320\n",
      "units_11: 128\n",
      "Score: 0.7975000143051147\n",
      "Trial summary\n",
      "Hyperparameters:\n",
      "num_layers: 19\n",
      "units_0: 320\n",
      "units_1: 448\n",
      "learning_rate: 0.001\n",
      "units_2: 64\n",
      "units_3: 64\n",
      "units_4: 32\n",
      "units_5: 128\n",
      "units_6: 416\n",
      "units_7: 512\n",
      "units_8: 192\n",
      "units_9: 224\n",
      "units_10: 448\n",
      "units_11: 480\n",
      "units_12: 32\n",
      "units_13: 32\n",
      "units_14: 32\n",
      "units_15: 32\n",
      "units_16: 32\n",
      "units_17: 32\n",
      "units_18: 32\n",
      "Score: 0.7975000143051147\n",
      "Trial summary\n",
      "Hyperparameters:\n",
      "num_layers: 17\n",
      "units_0: 320\n",
      "units_1: 32\n",
      "learning_rate: 0.0001\n",
      "units_2: 384\n",
      "units_3: 256\n",
      "units_4: 256\n",
      "units_5: 384\n",
      "units_6: 320\n",
      "units_7: 416\n",
      "units_8: 320\n",
      "units_9: 96\n",
      "units_10: 256\n",
      "units_11: 320\n",
      "units_12: 384\n",
      "units_13: 96\n",
      "units_14: 288\n",
      "units_15: 256\n",
      "units_16: 288\n",
      "units_17: 128\n",
      "units_18: 448\n",
      "Score: 0.7975000143051147\n"
     ]
    }
   ],
   "source": [
    "tuner.results_summary()"
   ]
  },
  {
   "cell_type": "markdown",
   "metadata": {},
   "source": [
    "### Great!!! Now we follow same procedure to make our final model. For prev Kindly refer this notebook.\n",
    "* https://github.com/AmitSingh-Rajjput/Deep-Learning-Tutorials/blob/main/ANN%20Classification%20Customer%20Churn%20Data.ipynb"
   ]
  }
 ],
 "metadata": {
  "kernelspec": {
   "display_name": "Python 3",
   "language": "python",
   "name": "python3"
  },
  "language_info": {
   "codemirror_mode": {
    "name": "ipython",
    "version": 3
   },
   "file_extension": ".py",
   "mimetype": "text/x-python",
   "name": "python",
   "nbconvert_exporter": "python",
   "pygments_lexer": "ipython3",
   "version": "3.6.9"
  }
 },
 "nbformat": 4,
 "nbformat_minor": 4
}
